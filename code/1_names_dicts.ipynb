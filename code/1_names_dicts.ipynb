{
 "cells": [
  {
   "cell_type": "code",
   "execution_count": 1,
   "metadata": {},
   "outputs": [],
   "source": [
    "import pandas as pd\n",
    "import numpy as np\n",
    "import pickle"
   ]
  },
  {
   "cell_type": "code",
   "execution_count": 2,
   "metadata": {},
   "outputs": [],
   "source": [
    "firstnames = pd.read_excel('../data/names_freq.xlsx',sheet_name='Given names',usecols=\"A:I\")"
   ]
  },
  {
   "cell_type": "code",
   "execution_count": 3,
   "metadata": {},
   "outputs": [],
   "source": [
    "lastnames = pd.read_excel('../data/names_freq.xlsx',sheet_name='Family names',usecols=\"A:H\")"
   ]
  },
  {
   "cell_type": "markdown",
   "metadata": {},
   "source": [
    "checks"
   ]
  },
  {
   "cell_type": "code",
   "execution_count": 7,
   "metadata": {},
   "outputs": [
    {
     "data": {
      "text/html": [
       "<div>\n",
       "<style scoped>\n",
       "    .dataframe tbody tr th:only-of-type {\n",
       "        vertical-align: middle;\n",
       "    }\n",
       "\n",
       "    .dataframe tbody tr th {\n",
       "        vertical-align: top;\n",
       "    }\n",
       "\n",
       "    .dataframe thead th {\n",
       "        text-align: right;\n",
       "    }\n",
       "</style>\n",
       "<table border=\"1\" class=\"dataframe\">\n",
       "  <thead>\n",
       "    <tr style=\"text-align: right;\">\n",
       "      <th></th>\n",
       "      <th>name</th>\n",
       "      <th>count</th>\n",
       "      <th>pctwhite</th>\n",
       "      <th>pctblack</th>\n",
       "      <th>pctapi</th>\n",
       "      <th>pctaian</th>\n",
       "      <th>pct2prace</th>\n",
       "      <th>pcthispanic</th>\n",
       "    </tr>\n",
       "  </thead>\n",
       "  <tbody>\n",
       "    <tr>\n",
       "      <th>116909</th>\n",
       "      <td>TSETHLIKAI</td>\n",
       "      <td>149</td>\n",
       "      <td>0.0</td>\n",
       "      <td>0.0</td>\n",
       "      <td>0.0</td>\n",
       "      <td>0.9664</td>\n",
       "      <td>0.0</td>\n",
       "      <td>0.0</td>\n",
       "    </tr>\n",
       "  </tbody>\n",
       "</table>\n",
       "</div>"
      ],
      "text/plain": [
       "              name  count  pctwhite  pctblack  pctapi  pctaian  pct2prace  \\\n",
       "116909  TSETHLIKAI    149       0.0       0.0     0.0   0.9664        0.0   \n",
       "\n",
       "        pcthispanic  \n",
       "116909          0.0  "
      ]
     },
     "execution_count": 7,
     "metadata": {},
     "output_type": "execute_result"
    }
   ],
   "source": [
    "lastnames.loc[lastnames.name == 'TSETHLIKAI',]"
   ]
  },
  {
   "cell_type": "code",
   "execution_count": 8,
   "metadata": {},
   "outputs": [],
   "source": [
    "racegrps = ['pctwhite','pctblack','pctapi','pctaian','pct2prace','pcthispanic']"
   ]
  },
  {
   "cell_type": "code",
   "execution_count": 9,
   "metadata": {},
   "outputs": [
    {
     "data": {
      "text/html": [
       "<div>\n",
       "<style scoped>\n",
       "    .dataframe tbody tr th:only-of-type {\n",
       "        vertical-align: middle;\n",
       "    }\n",
       "\n",
       "    .dataframe tbody tr th {\n",
       "        vertical-align: top;\n",
       "    }\n",
       "\n",
       "    .dataframe thead th {\n",
       "        text-align: right;\n",
       "    }\n",
       "</style>\n",
       "<table border=\"1\" class=\"dataframe\">\n",
       "  <thead>\n",
       "    <tr style=\"text-align: right;\">\n",
       "      <th></th>\n",
       "      <th>name</th>\n",
       "      <th>count</th>\n",
       "      <th>pctwhite</th>\n",
       "      <th>pctblack</th>\n",
       "      <th>pctapi</th>\n",
       "      <th>pctaian</th>\n",
       "      <th>pct2prace</th>\n",
       "      <th>pcthispanic</th>\n",
       "    </tr>\n",
       "  </thead>\n",
       "  <tbody>\n",
       "    <tr>\n",
       "      <th>81314</th>\n",
       "      <td>CHACO</td>\n",
       "      <td>233</td>\n",
       "      <td>0.2318</td>\n",
       "      <td>0.0000</td>\n",
       "      <td>0.3476</td>\n",
       "      <td>0.1288</td>\n",
       "      <td>0.0000</td>\n",
       "      <td>0.1760</td>\n",
       "    </tr>\n",
       "    <tr>\n",
       "      <th>83871</th>\n",
       "      <td>BONGA</td>\n",
       "      <td>224</td>\n",
       "      <td>0.4598</td>\n",
       "      <td>0.1563</td>\n",
       "      <td>0.1384</td>\n",
       "      <td>0.1429</td>\n",
       "      <td>0.0000</td>\n",
       "      <td>0.0000</td>\n",
       "    </tr>\n",
       "    <tr>\n",
       "      <th>89941</th>\n",
       "      <td>ANE</td>\n",
       "      <td>206</td>\n",
       "      <td>0.2816</td>\n",
       "      <td>0.0000</td>\n",
       "      <td>0.1942</td>\n",
       "      <td>0.0000</td>\n",
       "      <td>0.1553</td>\n",
       "      <td>0.2476</td>\n",
       "    </tr>\n",
       "    <tr>\n",
       "      <th>93162</th>\n",
       "      <td>DANNY</td>\n",
       "      <td>197</td>\n",
       "      <td>0.5482</td>\n",
       "      <td>0.0964</td>\n",
       "      <td>0.1320</td>\n",
       "      <td>0.1117</td>\n",
       "      <td>0.0000</td>\n",
       "      <td>0.0000</td>\n",
       "    </tr>\n",
       "    <tr>\n",
       "      <th>100327</th>\n",
       "      <td>BRIJMOHAN</td>\n",
       "      <td>180</td>\n",
       "      <td>0.1333</td>\n",
       "      <td>0.1722</td>\n",
       "      <td>0.5111</td>\n",
       "      <td>0.0000</td>\n",
       "      <td>0.0833</td>\n",
       "      <td>0.0000</td>\n",
       "    </tr>\n",
       "    <tr>\n",
       "      <th>...</th>\n",
       "      <td>...</td>\n",
       "      <td>...</td>\n",
       "      <td>...</td>\n",
       "      <td>...</td>\n",
       "      <td>...</td>\n",
       "      <td>...</td>\n",
       "      <td>...</td>\n",
       "      <td>...</td>\n",
       "    </tr>\n",
       "    <tr>\n",
       "      <th>161081</th>\n",
       "      <td>SLAKEY</td>\n",
       "      <td>100</td>\n",
       "      <td>0.8900</td>\n",
       "      <td>0.0000</td>\n",
       "      <td>0.0000</td>\n",
       "      <td>0.0000</td>\n",
       "      <td>0.0000</td>\n",
       "      <td>0.0000</td>\n",
       "    </tr>\n",
       "    <tr>\n",
       "      <th>161281</th>\n",
       "      <td>UPWARD</td>\n",
       "      <td>100</td>\n",
       "      <td>0.8900</td>\n",
       "      <td>0.0000</td>\n",
       "      <td>0.0000</td>\n",
       "      <td>0.0000</td>\n",
       "      <td>0.0000</td>\n",
       "      <td>0.0000</td>\n",
       "    </tr>\n",
       "    <tr>\n",
       "      <th>161695</th>\n",
       "      <td>EIDINGER</td>\n",
       "      <td>100</td>\n",
       "      <td>0.8900</td>\n",
       "      <td>0.0000</td>\n",
       "      <td>0.0000</td>\n",
       "      <td>0.0000</td>\n",
       "      <td>0.0000</td>\n",
       "      <td>0.0000</td>\n",
       "    </tr>\n",
       "    <tr>\n",
       "      <th>162036</th>\n",
       "      <td>GOZE</td>\n",
       "      <td>100</td>\n",
       "      <td>0.4800</td>\n",
       "      <td>0.0000</td>\n",
       "      <td>0.4100</td>\n",
       "      <td>0.0000</td>\n",
       "      <td>0.0000</td>\n",
       "      <td>0.0000</td>\n",
       "    </tr>\n",
       "    <tr>\n",
       "      <th>162125</th>\n",
       "      <td>VONGSAMPHANH</td>\n",
       "      <td>100</td>\n",
       "      <td>0.0000</td>\n",
       "      <td>0.0000</td>\n",
       "      <td>0.8800</td>\n",
       "      <td>0.0000</td>\n",
       "      <td>0.0000</td>\n",
       "      <td>0.0000</td>\n",
       "    </tr>\n",
       "  </tbody>\n",
       "</table>\n",
       "<p>141 rows × 8 columns</p>\n",
       "</div>"
      ],
      "text/plain": [
       "                name  count  pctwhite  pctblack  pctapi  pctaian  pct2prace  \\\n",
       "81314          CHACO    233    0.2318    0.0000  0.3476   0.1288     0.0000   \n",
       "83871          BONGA    224    0.4598    0.1563  0.1384   0.1429     0.0000   \n",
       "89941            ANE    206    0.2816    0.0000  0.1942   0.0000     0.1553   \n",
       "93162          DANNY    197    0.5482    0.0964  0.1320   0.1117     0.0000   \n",
       "100327     BRIJMOHAN    180    0.1333    0.1722  0.5111   0.0000     0.0833   \n",
       "...              ...    ...       ...       ...     ...      ...        ...   \n",
       "161081        SLAKEY    100    0.8900    0.0000  0.0000   0.0000     0.0000   \n",
       "161281        UPWARD    100    0.8900    0.0000  0.0000   0.0000     0.0000   \n",
       "161695      EIDINGER    100    0.8900    0.0000  0.0000   0.0000     0.0000   \n",
       "162036          GOZE    100    0.4800    0.0000  0.4100   0.0000     0.0000   \n",
       "162125  VONGSAMPHANH    100    0.0000    0.0000  0.8800   0.0000     0.0000   \n",
       "\n",
       "        pcthispanic  \n",
       "81314        0.1760  \n",
       "83871        0.0000  \n",
       "89941        0.2476  \n",
       "93162        0.0000  \n",
       "100327       0.0000  \n",
       "...             ...  \n",
       "161081       0.0000  \n",
       "161281       0.0000  \n",
       "161695       0.0000  \n",
       "162036       0.0000  \n",
       "162125       0.0000  \n",
       "\n",
       "[141 rows x 8 columns]"
      ]
     },
     "execution_count": 9,
     "metadata": {},
     "output_type": "execute_result"
    }
   ],
   "source": [
    "(lastnames[racegrps].sum(axis=1)>1.01).sum()\n",
    "(lastnames[racegrps].sum(axis=1)<0.9).sum()\n",
    "lastnames[lastnames[racegrps].sum(axis=1)<0.9]"
   ]
  },
  {
   "cell_type": "markdown",
   "metadata": {},
   "source": [
    "There are some cases that sum less than 1. This is for privacy preservation. I will normalize so everything sums up to 1"
   ]
  },
  {
   "cell_type": "code",
   "execution_count": 10,
   "metadata": {},
   "outputs": [],
   "source": [
    "# lastnames[racegrps] = lastnames[racegrps]/lastnames[racegrps].sum(axis=1)\n",
    "lastnames.loc[:,racegrps] = lastnames.loc[:,racegrps].div(lastnames[racegrps].sum(axis=1), axis=0)"
   ]
  },
  {
   "cell_type": "code",
   "execution_count": 12,
   "metadata": {},
   "outputs": [
    {
     "data": {
      "text/plain": [
       "0"
      ]
     },
     "execution_count": 12,
     "metadata": {},
     "output_type": "execute_result"
    }
   ],
   "source": [
    "(firstnames[racegrps].sum(axis=1)>101).sum()\n",
    "(firstnames[racegrps].sum(axis=1)<99).sum()"
   ]
  },
  {
   "cell_type": "markdown",
   "metadata": {},
   "source": [
    "No problems with first names, but normalize probs to 0-1"
   ]
  },
  {
   "cell_type": "code",
   "execution_count": 13,
   "metadata": {},
   "outputs": [],
   "source": [
    "firstnames.loc[:,racegrps] = firstnames.loc[:,racegrps].div(firstnames[racegrps].sum(axis=1), axis=0)"
   ]
  },
  {
   "cell_type": "markdown",
   "metadata": {},
   "source": [
    "Check: Which categories to use"
   ]
  },
  {
   "cell_type": "code",
   "execution_count": 14,
   "metadata": {},
   "outputs": [
    {
     "data": {
      "text/plain": [
       "pctwhite       0.644342\n",
       "pctblack       0.119751\n",
       "pctapi         0.048627\n",
       "pctaian        0.006942\n",
       "pct2prace      0.017628\n",
       "pcthispanic    0.162711\n",
       "dtype: float64"
      ]
     },
     "execution_count": 14,
     "metadata": {},
     "output_type": "execute_result"
    }
   ],
   "source": [
    "lastnames[['pctwhite','pctblack','pctapi','pctaian','pct2prace','pcthispanic']].multiply(lastnames[\"count\"], axis=\"index\").sum()/lastnames[\"count\"].sum()\n"
   ]
  },
  {
   "cell_type": "markdown",
   "metadata": {},
   "source": [
    "I'll keep `'pctwhite','pctblack','pctapi','pcthispanic'` "
   ]
  },
  {
   "cell_type": "code",
   "execution_count": 15,
   "metadata": {},
   "outputs": [],
   "source": [
    "# lastnames['pctother'] = lastnames['pctaian'] + lastnames['pct2prace']\n",
    "# firstnames['pctother'] = firstnames['pctaian'] + firstnames['pct2prace']"
   ]
  },
  {
   "cell_type": "markdown",
   "metadata": {},
   "source": [
    "remove pctaian and pct2prace and renormalize"
   ]
  },
  {
   "cell_type": "code",
   "execution_count": 16,
   "metadata": {},
   "outputs": [],
   "source": [
    "lastnames= lastnames.loc[:,['name','count','pctwhite','pcthispanic','pctblack','pctapi']]\n",
    "lastnames[['pctwhite','pcthispanic','pctblack','pctapi']] = lastnames[['pctwhite','pcthispanic','pctblack','pctapi']].div(\n",
    "    lastnames[['pctwhite','pcthispanic','pctblack','pctapi']].sum(axis=1), axis=0)\n",
    "\n",
    "firstnames= firstnames.loc[:,['firstname','obs','pctwhite','pcthispanic','pctblack','pctapi']]\n",
    "firstnames[['pctwhite','pcthispanic','pctblack','pctapi']] = firstnames[['pctwhite','pcthispanic','pctblack','pctapi']].div(\n",
    "    firstnames[['pctwhite','pcthispanic','pctblack','pctapi']].sum(axis=1), axis=0)"
   ]
  },
  {
   "cell_type": "code",
   "execution_count": 17,
   "metadata": {},
   "outputs": [],
   "source": [
    "lastnames  = lastnames.rename({'name':'lastname'},axis=1).set_index('lastname')[['count','pctwhite','pcthispanic','pctblack','pctapi']]\n",
    "firstnames = firstnames.rename({'obs':'count'},axis=1).set_index('firstname')[['count','pctwhite','pcthispanic','pctblack','pctapi']]"
   ]
  },
  {
   "cell_type": "code",
   "execution_count": null,
   "metadata": {},
   "outputs": [],
   "source": [
    "lastnames"
   ]
  },
  {
   "cell_type": "code",
   "execution_count": 29,
   "metadata": {},
   "outputs": [
    {
     "data": {
      "text/html": [
       "<div>\n",
       "<style scoped>\n",
       "    .dataframe tbody tr th:only-of-type {\n",
       "        vertical-align: middle;\n",
       "    }\n",
       "\n",
       "    .dataframe tbody tr th {\n",
       "        vertical-align: top;\n",
       "    }\n",
       "\n",
       "    .dataframe thead th {\n",
       "        text-align: right;\n",
       "    }\n",
       "</style>\n",
       "<table border=\"1\" class=\"dataframe\">\n",
       "  <thead>\n",
       "    <tr style=\"text-align: right;\">\n",
       "      <th></th>\n",
       "      <th>count</th>\n",
       "      <th>pctwhite</th>\n",
       "      <th>pcthispanic</th>\n",
       "      <th>pctblack</th>\n",
       "      <th>pctapi</th>\n",
       "    </tr>\n",
       "    <tr>\n",
       "      <th>lastname</th>\n",
       "      <th></th>\n",
       "      <th></th>\n",
       "      <th></th>\n",
       "      <th></th>\n",
       "      <th></th>\n",
       "    </tr>\n",
       "  </thead>\n",
       "  <tbody>\n",
       "    <tr>\n",
       "      <th>HOSTEEN</th>\n",
       "      <td>313</td>\n",
       "      <td>NaN</td>\n",
       "      <td>NaN</td>\n",
       "      <td>NaN</td>\n",
       "      <td>NaN</td>\n",
       "    </tr>\n",
       "    <tr>\n",
       "      <th>YELLOWMAN</th>\n",
       "      <td>310</td>\n",
       "      <td>NaN</td>\n",
       "      <td>NaN</td>\n",
       "      <td>NaN</td>\n",
       "      <td>NaN</td>\n",
       "    </tr>\n",
       "    <tr>\n",
       "      <th>BITSUI</th>\n",
       "      <td>285</td>\n",
       "      <td>NaN</td>\n",
       "      <td>NaN</td>\n",
       "      <td>NaN</td>\n",
       "      <td>NaN</td>\n",
       "    </tr>\n",
       "    <tr>\n",
       "      <th>HENIO</th>\n",
       "      <td>270</td>\n",
       "      <td>NaN</td>\n",
       "      <td>NaN</td>\n",
       "      <td>NaN</td>\n",
       "      <td>NaN</td>\n",
       "    </tr>\n",
       "    <tr>\n",
       "      <th>DECLAY</th>\n",
       "      <td>267</td>\n",
       "      <td>NaN</td>\n",
       "      <td>NaN</td>\n",
       "      <td>NaN</td>\n",
       "      <td>NaN</td>\n",
       "    </tr>\n",
       "    <tr>\n",
       "      <th>...</th>\n",
       "      <td>...</td>\n",
       "      <td>...</td>\n",
       "      <td>...</td>\n",
       "      <td>...</td>\n",
       "      <td>...</td>\n",
       "    </tr>\n",
       "    <tr>\n",
       "      <th>NOCKIDENEH</th>\n",
       "      <td>101</td>\n",
       "      <td>NaN</td>\n",
       "      <td>NaN</td>\n",
       "      <td>NaN</td>\n",
       "      <td>NaN</td>\n",
       "    </tr>\n",
       "    <tr>\n",
       "      <th>DENETSOSIE</th>\n",
       "      <td>100</td>\n",
       "      <td>NaN</td>\n",
       "      <td>NaN</td>\n",
       "      <td>NaN</td>\n",
       "      <td>NaN</td>\n",
       "    </tr>\n",
       "    <tr>\n",
       "      <th>HATATHLIE</th>\n",
       "      <td>100</td>\n",
       "      <td>NaN</td>\n",
       "      <td>NaN</td>\n",
       "      <td>NaN</td>\n",
       "      <td>NaN</td>\n",
       "    </tr>\n",
       "    <tr>\n",
       "      <th>REALBIRD</th>\n",
       "      <td>100</td>\n",
       "      <td>NaN</td>\n",
       "      <td>NaN</td>\n",
       "      <td>NaN</td>\n",
       "      <td>NaN</td>\n",
       "    </tr>\n",
       "    <tr>\n",
       "      <th>HASKAN</th>\n",
       "      <td>100</td>\n",
       "      <td>NaN</td>\n",
       "      <td>NaN</td>\n",
       "      <td>NaN</td>\n",
       "      <td>NaN</td>\n",
       "    </tr>\n",
       "  </tbody>\n",
       "</table>\n",
       "<p>122 rows × 5 columns</p>\n",
       "</div>"
      ],
      "text/plain": [
       "            count  pctwhite  pcthispanic  pctblack  pctapi\n",
       "lastname                                                  \n",
       "HOSTEEN       313       NaN          NaN       NaN     NaN\n",
       "YELLOWMAN     310       NaN          NaN       NaN     NaN\n",
       "BITSUI        285       NaN          NaN       NaN     NaN\n",
       "HENIO         270       NaN          NaN       NaN     NaN\n",
       "DECLAY        267       NaN          NaN       NaN     NaN\n",
       "...           ...       ...          ...       ...     ...\n",
       "NOCKIDENEH    101       NaN          NaN       NaN     NaN\n",
       "DENETSOSIE    100       NaN          NaN       NaN     NaN\n",
       "HATATHLIE     100       NaN          NaN       NaN     NaN\n",
       "REALBIRD      100       NaN          NaN       NaN     NaN\n",
       "HASKAN        100       NaN          NaN       NaN     NaN\n",
       "\n",
       "[122 rows x 5 columns]"
      ]
     },
     "execution_count": 29,
     "metadata": {},
     "output_type": "execute_result"
    }
   ],
   "source": [
    "#there are some names that only had values for pctaian and pct2prace. I set them to 0\n",
    "lastnames.loc[lastnames.isna()['pctwhite'].values,]"
   ]
  },
  {
   "cell_type": "code",
   "execution_count": 34,
   "metadata": {},
   "outputs": [
    {
     "data": {
      "text/html": [
       "<div>\n",
       "<style scoped>\n",
       "    .dataframe tbody tr th:only-of-type {\n",
       "        vertical-align: middle;\n",
       "    }\n",
       "\n",
       "    .dataframe tbody tr th {\n",
       "        vertical-align: top;\n",
       "    }\n",
       "\n",
       "    .dataframe thead th {\n",
       "        text-align: right;\n",
       "    }\n",
       "</style>\n",
       "<table border=\"1\" class=\"dataframe\">\n",
       "  <thead>\n",
       "    <tr style=\"text-align: right;\">\n",
       "      <th></th>\n",
       "      <th>count</th>\n",
       "      <th>pctwhite</th>\n",
       "      <th>pcthispanic</th>\n",
       "      <th>pctblack</th>\n",
       "      <th>pctapi</th>\n",
       "    </tr>\n",
       "    <tr>\n",
       "      <th>firstname</th>\n",
       "      <th></th>\n",
       "      <th></th>\n",
       "      <th></th>\n",
       "      <th></th>\n",
       "      <th></th>\n",
       "    </tr>\n",
       "  </thead>\n",
       "  <tbody>\n",
       "  </tbody>\n",
       "</table>\n",
       "</div>"
      ],
      "text/plain": [
       "Empty DataFrame\n",
       "Columns: [count, pctwhite, pcthispanic, pctblack, pctapi]\n",
       "Index: []"
      ]
     },
     "execution_count": 34,
     "metadata": {},
     "output_type": "execute_result"
    }
   ],
   "source": [
    "firstnames.loc[firstnames.isna()['pctwhite'].values,]"
   ]
  },
  {
   "cell_type": "code",
   "execution_count": 32,
   "metadata": {},
   "outputs": [
    {
     "data": {
      "text/html": [
       "<div>\n",
       "<style scoped>\n",
       "    .dataframe tbody tr th:only-of-type {\n",
       "        vertical-align: middle;\n",
       "    }\n",
       "\n",
       "    .dataframe tbody tr th {\n",
       "        vertical-align: top;\n",
       "    }\n",
       "\n",
       "    .dataframe thead th {\n",
       "        text-align: right;\n",
       "    }\n",
       "</style>\n",
       "<table border=\"1\" class=\"dataframe\">\n",
       "  <thead>\n",
       "    <tr style=\"text-align: right;\">\n",
       "      <th></th>\n",
       "      <th>count</th>\n",
       "      <th>pctwhite</th>\n",
       "      <th>pcthispanic</th>\n",
       "      <th>pctblack</th>\n",
       "      <th>pctapi</th>\n",
       "    </tr>\n",
       "    <tr>\n",
       "      <th>lastname</th>\n",
       "      <th></th>\n",
       "      <th></th>\n",
       "      <th></th>\n",
       "      <th></th>\n",
       "      <th></th>\n",
       "    </tr>\n",
       "  </thead>\n",
       "  <tbody>\n",
       "  </tbody>\n",
       "</table>\n",
       "</div>"
      ],
      "text/plain": [
       "Empty DataFrame\n",
       "Columns: [count, pctwhite, pcthispanic, pctblack, pctapi]\n",
       "Index: []"
      ]
     },
     "execution_count": 32,
     "metadata": {},
     "output_type": "execute_result"
    }
   ],
   "source": [
    "lastnames = lastnames.fillna(0)\n",
    "lastnames.loc[lastnames.isna()['pctwhite'].values,]"
   ]
  },
  {
   "cell_type": "code",
   "execution_count": 35,
   "metadata": {},
   "outputs": [
    {
     "data": {
      "text/plain": [
       "count          149.0\n",
       "pctwhite         0.0\n",
       "pcthispanic      0.0\n",
       "pctblack         0.0\n",
       "pctapi           0.0\n",
       "Name: TSETHLIKAI, dtype: float64"
      ]
     },
     "execution_count": 35,
     "metadata": {},
     "output_type": "execute_result"
    }
   ],
   "source": [
    "lastnames.loc['TSETHLIKAI',]"
   ]
  },
  {
   "cell_type": "markdown",
   "metadata": {},
   "source": [
    "# First name normalization"
   ]
  },
  {
   "cell_type": "code",
   "execution_count": 36,
   "metadata": {},
   "outputs": [],
   "source": [
    "#     lastnames_prop = lastnames[['pctwhite','pcthispanic','pctblack','pctapi','pctother']].multiply(lastnames[\"count\"], axis=\"index\").sum()/lastnames[\"count\"].sum()\n",
    "#     firstnames_prop = firstnames[['pctwhite','pcthispanic','pctblack','pctapi','pctother']].multiply(firstnames[\"count\"], axis=\"index\").sum()/firstnames[\"count\"].sum()\n",
    "#     ratio = firstnames_general_prop/lastnames_general_prop\n",
    "#     normalized_names = firstnames[['pctwhite','pcthispanic','pctblack','pctapi','pctother']]/ratio\n",
    "#     normalized_names = normalized_names.divide(normalized_names.sum(axis=1),axis='index')\n",
    "#     normalized_names = normalized_names.join(firstnames['count'])"
   ]
  },
  {
   "cell_type": "code",
   "execution_count": 37,
   "metadata": {},
   "outputs": [],
   "source": [
    "def first_name_normalization(lastnames,firstnames):\n",
    "    \n",
    "    lastnames_freq = lastnames[['pctwhite','pcthispanic','pctblack','pctapi']].multiply(lastnames[\"count\"], axis=\"index\")\n",
    "    firstnames_freq = firstnames[['pctwhite','pcthispanic','pctblack','pctapi']].multiply(firstnames[\"count\"], axis=\"index\")\n",
    "    \n",
    "    lastnames_total = lastnames_freq.sum()\n",
    "    firstnames_total = firstnames_freq.sum()\n",
    "\n",
    "    expansion_factors = lastnames_total/firstnames_total\n",
    "    expanded_names = firstnames_freq*expansion_factors\n",
    "    expanded_names['count'] = expanded_names.sum(axis=1)\n",
    "    expanded_names[['pctwhite','pcthispanic','pctblack','pctapi']] = expanded_names[['pctwhite','pcthispanic','pctblack','pctapi']].divide(expanded_names['count'], axis= 'index')\n",
    "    return expanded_names"
   ]
  },
  {
   "cell_type": "code",
   "execution_count": 38,
   "metadata": {},
   "outputs": [],
   "source": [
    "normalized_names = first_name_normalization(lastnames,firstnames)"
   ]
  },
  {
   "cell_type": "code",
   "execution_count": 39,
   "metadata": {},
   "outputs": [
    {
     "data": {
      "text/plain": [
       "pctwhite       0.661099\n",
       "pcthispanic    0.164788\n",
       "pctblack       0.123754\n",
       "pctapi         0.050301\n",
       "dtype: float64"
      ]
     },
     "execution_count": 39,
     "metadata": {},
     "output_type": "execute_result"
    }
   ],
   "source": [
    "lastnames[['pctwhite','pcthispanic','pctblack','pctapi']].multiply(lastnames[\"count\"], axis=\"index\").sum()/lastnames[\"count\"].sum()"
   ]
  },
  {
   "cell_type": "code",
   "execution_count": 40,
   "metadata": {},
   "outputs": [
    {
     "data": {
      "text/plain": [
       "pctwhite       0.825763\n",
       "pcthispanic    0.068955\n",
       "pctblack       0.042236\n",
       "pctapi         0.063046\n",
       "dtype: float64"
      ]
     },
     "execution_count": 40,
     "metadata": {},
     "output_type": "execute_result"
    }
   ],
   "source": [
    "firstnames[['pctwhite','pcthispanic','pctblack','pctapi']].multiply(firstnames[\"count\"], axis=\"index\").sum()/firstnames[\"count\"].sum()"
   ]
  },
  {
   "cell_type": "code",
   "execution_count": 41,
   "metadata": {},
   "outputs": [
    {
     "data": {
      "text/plain": [
       "pctwhite       0.661137\n",
       "pcthispanic    0.164798\n",
       "pctblack       0.123761\n",
       "pctapi         0.050304\n",
       "dtype: float64"
      ]
     },
     "execution_count": 41,
     "metadata": {},
     "output_type": "execute_result"
    }
   ],
   "source": [
    "normalized_names[['pctwhite','pcthispanic','pctblack','pctapi']].multiply(normalized_names[\"count\"], axis=\"index\").sum()/normalized_names[\"count\"].sum()"
   ]
  },
  {
   "cell_type": "code",
   "execution_count": 42,
   "metadata": {},
   "outputs": [],
   "source": [
    "normalized_names.to_csv('../data/names_normalized.csv')"
   ]
  },
  {
   "cell_type": "markdown",
   "metadata": {},
   "source": [
    "## Save"
   ]
  },
  {
   "cell_type": "code",
   "execution_count": 43,
   "metadata": {},
   "outputs": [
    {
     "data": {
      "text/html": [
       "<div>\n",
       "<style scoped>\n",
       "    .dataframe tbody tr th:only-of-type {\n",
       "        vertical-align: middle;\n",
       "    }\n",
       "\n",
       "    .dataframe tbody tr th {\n",
       "        vertical-align: top;\n",
       "    }\n",
       "\n",
       "    .dataframe thead th {\n",
       "        text-align: right;\n",
       "    }\n",
       "</style>\n",
       "<table border=\"1\" class=\"dataframe\">\n",
       "  <thead>\n",
       "    <tr style=\"text-align: right;\">\n",
       "      <th></th>\n",
       "      <th>count</th>\n",
       "      <th>pctwhite</th>\n",
       "      <th>pcthispanic</th>\n",
       "      <th>pctblack</th>\n",
       "      <th>pctapi</th>\n",
       "    </tr>\n",
       "    <tr>\n",
       "      <th>lastname</th>\n",
       "      <th></th>\n",
       "      <th></th>\n",
       "      <th></th>\n",
       "      <th></th>\n",
       "      <th></th>\n",
       "    </tr>\n",
       "  </thead>\n",
       "  <tbody>\n",
       "    <tr>\n",
       "      <th>ALL OTHER LAST NAMES</th>\n",
       "      <td>29312001</td>\n",
       "      <td>0.688391</td>\n",
       "      <td>0.141190</td>\n",
       "      <td>0.088102</td>\n",
       "      <td>0.082318</td>\n",
       "    </tr>\n",
       "    <tr>\n",
       "      <th>SMITH</th>\n",
       "      <td>2442977</td>\n",
       "      <td>0.731607</td>\n",
       "      <td>0.024765</td>\n",
       "      <td>0.238469</td>\n",
       "      <td>0.005159</td>\n",
       "    </tr>\n",
       "    <tr>\n",
       "      <th>JOHNSON</th>\n",
       "      <td>1932812</td>\n",
       "      <td>0.611088</td>\n",
       "      <td>0.024456</td>\n",
       "      <td>0.358860</td>\n",
       "      <td>0.005596</td>\n",
       "    </tr>\n",
       "    <tr>\n",
       "      <th>WILLIAMS</th>\n",
       "      <td>1625252</td>\n",
       "      <td>0.474684</td>\n",
       "      <td>0.025835</td>\n",
       "      <td>0.494708</td>\n",
       "      <td>0.004773</td>\n",
       "    </tr>\n",
       "    <tr>\n",
       "      <th>BROWN</th>\n",
       "      <td>1437026</td>\n",
       "      <td>0.600021</td>\n",
       "      <td>0.026092</td>\n",
       "      <td>0.368606</td>\n",
       "      <td>0.005281</td>\n",
       "    </tr>\n",
       "    <tr>\n",
       "      <th>...</th>\n",
       "      <td>...</td>\n",
       "      <td>...</td>\n",
       "      <td>...</td>\n",
       "      <td>...</td>\n",
       "      <td>...</td>\n",
       "    </tr>\n",
       "    <tr>\n",
       "      <th>BULAR</th>\n",
       "      <td>100</td>\n",
       "      <td>0.870000</td>\n",
       "      <td>0.000000</td>\n",
       "      <td>0.130000</td>\n",
       "      <td>0.000000</td>\n",
       "    </tr>\n",
       "    <tr>\n",
       "      <th>WIGGLETON</th>\n",
       "      <td>100</td>\n",
       "      <td>0.390000</td>\n",
       "      <td>0.000000</td>\n",
       "      <td>0.610000</td>\n",
       "      <td>0.000000</td>\n",
       "    </tr>\n",
       "    <tr>\n",
       "      <th>SNEARL</th>\n",
       "      <td>100</td>\n",
       "      <td>0.000000</td>\n",
       "      <td>0.000000</td>\n",
       "      <td>1.000000</td>\n",
       "      <td>0.000000</td>\n",
       "    </tr>\n",
       "    <tr>\n",
       "      <th>BRIHM</th>\n",
       "      <td>100</td>\n",
       "      <td>0.000000</td>\n",
       "      <td>0.000000</td>\n",
       "      <td>1.000000</td>\n",
       "      <td>0.000000</td>\n",
       "    </tr>\n",
       "    <tr>\n",
       "      <th>BLANKUMSEE</th>\n",
       "      <td>100</td>\n",
       "      <td>0.000000</td>\n",
       "      <td>0.000000</td>\n",
       "      <td>1.000000</td>\n",
       "      <td>0.000000</td>\n",
       "    </tr>\n",
       "  </tbody>\n",
       "</table>\n",
       "<p>162254 rows × 5 columns</p>\n",
       "</div>"
      ],
      "text/plain": [
       "                         count  pctwhite  pcthispanic  pctblack    pctapi\n",
       "lastname                                                                 \n",
       "ALL OTHER LAST NAMES  29312001  0.688391     0.141190  0.088102  0.082318\n",
       "SMITH                  2442977  0.731607     0.024765  0.238469  0.005159\n",
       "JOHNSON                1932812  0.611088     0.024456  0.358860  0.005596\n",
       "WILLIAMS               1625252  0.474684     0.025835  0.494708  0.004773\n",
       "BROWN                  1437026  0.600021     0.026092  0.368606  0.005281\n",
       "...                        ...       ...          ...       ...       ...\n",
       "BULAR                      100  0.870000     0.000000  0.130000  0.000000\n",
       "WIGGLETON                  100  0.390000     0.000000  0.610000  0.000000\n",
       "SNEARL                     100  0.000000     0.000000  1.000000  0.000000\n",
       "BRIHM                      100  0.000000     0.000000  1.000000  0.000000\n",
       "BLANKUMSEE                 100  0.000000     0.000000  1.000000  0.000000\n",
       "\n",
       "[162254 rows x 5 columns]"
      ]
     },
     "execution_count": 43,
     "metadata": {},
     "output_type": "execute_result"
    }
   ],
   "source": [
    "lastnames"
   ]
  },
  {
   "cell_type": "code",
   "execution_count": 44,
   "metadata": {},
   "outputs": [],
   "source": [
    "lastnames = lastnames.drop('count',axis=1)\n",
    "firstnames = firstnames.drop('count',axis=1)\n",
    "normalized_names = normalized_names.drop('count',axis=1)"
   ]
  },
  {
   "cell_type": "code",
   "execution_count": 45,
   "metadata": {},
   "outputs": [],
   "source": [
    "lastnames_dict = dict(zip(lastnames.index,np.array(lastnames)))\n",
    "firstnames_dict = dict(zip(firstnames.index,np.array(firstnames)))\n",
    "firstnames_dict_normalized =  dict(zip(normalized_names.index,np.array(normalized_names)))"
   ]
  },
  {
   "cell_type": "code",
   "execution_count": 46,
   "metadata": {},
   "outputs": [],
   "source": [
    "dictionaries = {'lastnames_dict':lastnames_dict,'firstnames_dict':firstnames_dict,'firstnames_norm_dict':firstnames_dict_normalized}"
   ]
  },
  {
   "cell_type": "markdown",
   "metadata": {},
   "source": [
    "I save the dicts"
   ]
  },
  {
   "cell_type": "code",
   "execution_count": 47,
   "metadata": {},
   "outputs": [],
   "source": [
    "pickle.dump(dictionaries, open('libs/names_prob.p', 'wb'))"
   ]
  },
  {
   "cell_type": "markdown",
   "metadata": {},
   "source": [
    "Lib/RaceDistribution.py"
   ]
  }
 ],
 "metadata": {
  "kernelspec": {
   "display_name": "Python 3",
   "language": "python",
   "name": "python3"
  },
  "language_info": {
   "codemirror_mode": {
    "name": "ipython",
    "version": 3
   },
   "file_extension": ".py",
   "mimetype": "text/x-python",
   "name": "python",
   "nbconvert_exporter": "python",
   "pygments_lexer": "ipython3",
   "version": "3.8.2"
  }
 },
 "nbformat": 4,
 "nbformat_minor": 4
}
