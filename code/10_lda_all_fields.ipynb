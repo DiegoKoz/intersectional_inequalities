{
 "cells": [
  {
   "cell_type": "code",
   "execution_count": 1,
   "id": "classified-stick",
   "metadata": {},
   "outputs": [],
   "source": [
    "import pandas as pd\n",
    "\n",
    "import numpy as np\n",
    "from tqdm.notebook import tqdm\n",
    "import os\n",
    "import re\n",
    "import glob\n",
    "import pickle\n",
    "\n",
    "\n",
    "from libs.LDADisciplines import DisciplinesCleaner LDA_Fields\n",
    "\n",
    "from libs.lda_wrapper import LDA_wrapper\n",
    "from libs.LastNamesInference import LastNamesInference"
   ]
  },
  {
   "cell_type": "code",
   "execution_count": 2,
   "id": "bridal-treasure",
   "metadata": {},
   "outputs": [
    {
     "name": "stderr",
     "output_type": "stream",
     "text": [
      "/home/user/miniconda/lib/python3.8/site-packages/ipykernel/ipkernel.py:287: DeprecationWarning: `should_run_async` will not call `transform_cell` automatically in the future. Please pass the result to `transformed_cell` argument and any exception that happen during thetransform in `preprocessing_exc_tuple` in IPython 7.17 and above.\n",
      "  and should_run_async(code)\n"
     ]
    }
   ],
   "source": [
    "import warnings\n",
    "warnings.filterwarnings(\"ignore\", category=DeprecationWarning)\n",
    "tqdm.pandas()"
   ]
  },
  {
   "cell_type": "code",
   "execution_count": 5,
   "id": "arabic-hormone",
   "metadata": {},
   "outputs": [],
   "source": [
    "os.environ[\"NUMEXPR_NUM_THREADS\"] = '127'\n",
    "os.environ[\"NUMEXPR_MAX_THREADS\"] = '127'"
   ]
  },
  {
   "cell_type": "code",
   "execution_count": 6,
   "id": "necessary-mortality",
   "metadata": {},
   "outputs": [],
   "source": [
    "# 1. clean and save text from all disciplines\n",
    "\n",
    "# dc = DisciplinesCleaner()\n",
    "\n",
    "# dc.main()"
   ]
  },
  {
   "cell_type": "code",
   "execution_count": 8,
   "id": "exempt-share",
   "metadata": {},
   "outputs": [],
   "source": [
    "lda_f = LDA_Fields(ntopics=200)"
   ]
  },
  {
   "cell_type": "code",
   "execution_count": null,
   "id": "measured-attack",
   "metadata": {},
   "outputs": [
    {
     "data": {
      "application/vnd.jupyter.widget-view+json": {
       "model_id": "5180b655368d490185765eb99d2aef31",
       "version_major": 2,
       "version_minor": 0
      },
      "text/plain": [
       "HBox(children=(HTML(value=''), FloatProgress(value=1.0, bar_style='info', layout=Layout(width='20px'), max=1.0…"
      ]
     },
     "metadata": {},
     "output_type": "display_data"
    },
    {
     "name": "stdout",
     "output_type": "stream",
     "text": [
      "Clinical_Medicine\n"
     ]
    },
    {
     "name": "stderr",
     "output_type": "stream",
     "text": [
      "imputing by the mean: 100%|██████████| 123826/123826 [00:00<00:00, 215107.48it/s]\n"
     ]
    },
    {
     "data": {
      "application/vnd.jupyter.widget-view+json": {
       "model_id": "c9353195c08d43efab99904bd497ce5c",
       "version_major": 2,
       "version_minor": 0
      },
      "text/plain": [
       "HBox(children=(HTML(value='inferring race from lastnames'), FloatProgress(value=0.0, max=123826.0), HTML(value…"
      ]
     },
     "metadata": {},
     "output_type": "display_data"
    },
    {
     "name": "stdout",
     "output_type": "stream",
     "text": [
      "\n",
      "Chemistry\n"
     ]
    },
    {
     "name": "stderr",
     "output_type": "stream",
     "text": [
      "imputing by the mean: 100%|██████████| 118778/118778 [00:00<00:00, 224204.55it/s]\n"
     ]
    },
    {
     "data": {
      "application/vnd.jupyter.widget-view+json": {
       "model_id": "f1e6d54b42a5440dafdb2dc6d04bb627",
       "version_major": 2,
       "version_minor": 0
      },
      "text/plain": [
       "HBox(children=(HTML(value='inferring race from lastnames'), FloatProgress(value=0.0, max=118778.0), HTML(value…"
      ]
     },
     "metadata": {},
     "output_type": "display_data"
    },
    {
     "name": "stdout",
     "output_type": "stream",
     "text": [
      "\n",
      "Physics\n"
     ]
    },
    {
     "name": "stderr",
     "output_type": "stream",
     "text": [
      "imputing by the mean: 100%|██████████| 183605/183605 [00:00<00:00, 220047.50it/s]\n"
     ]
    },
    {
     "data": {
      "application/vnd.jupyter.widget-view+json": {
       "model_id": "db969f636cc84063823f17bae0708f1f",
       "version_major": 2,
       "version_minor": 0
      },
      "text/plain": [
       "HBox(children=(HTML(value='inferring race from lastnames'), FloatProgress(value=0.0, max=183605.0), HTML(value…"
      ]
     },
     "metadata": {},
     "output_type": "display_data"
    },
    {
     "name": "stdout",
     "output_type": "stream",
     "text": [
      "\n",
      "Biomedical_Research\n"
     ]
    }
   ],
   "source": [
    "lda_f.fit_all_fields(main_path =\"/data/datasets/WOS/US/text/\")"
   ]
  },
  {
   "cell_type": "code",
   "execution_count": 142,
   "id": "flexible-stupid",
   "metadata": {},
   "outputs": [
    {
     "data": {
      "application/vnd.jupyter.widget-view+json": {
       "model_id": "b9c1067f57904644bebf1db6ba024f73",
       "version_major": 2,
       "version_minor": 0
      },
      "text/plain": [
       "HBox(children=(HTML(value=''), FloatProgress(value=1.0, bar_style='info', layout=Layout(width='20px'), max=1.0…"
      ]
     },
     "metadata": {},
     "output_type": "display_data"
    },
    {
     "name": "stdout",
     "output_type": "stream",
     "text": [
      "\n"
     ]
    }
   ],
   "source": [
    "# filenames =  glob.glob(\"/data/datasets/WOS/US/text/*.txt\")\n",
    "# disciplines = [os.path.basename(x).replace(r'text_clean_', '').replace('.txt','') for x in filenames]  \n",
    "# for discipline,path in tqdm(zip(disciplines,filenames)):\n",
    "#     tmp = pd.read_csv(path)\n",
    "#     tmp.sample(1000).to_csv(path.replace('/text/','/text/sample/' ),index=False)"
   ]
  },
  {
   "cell_type": "code",
   "execution_count": 125,
   "id": "aggressive-august",
   "metadata": {},
   "outputs": [],
   "source": []
  },
  {
   "cell_type": "code",
   "execution_count": null,
   "id": "compact-channels",
   "metadata": {},
   "outputs": [],
   "source": []
  }
 ],
 "metadata": {
  "kernelspec": {
   "display_name": "Python 3",
   "language": "python",
   "name": "python3"
  },
  "language_info": {
   "codemirror_mode": {
    "name": "ipython",
    "version": 3
   },
   "file_extension": ".py",
   "mimetype": "text/x-python",
   "name": "python",
   "nbconvert_exporter": "python",
   "pygments_lexer": "ipython3",
   "version": "3.8.3"
  }
 },
 "nbformat": 4,
 "nbformat_minor": 5
}
