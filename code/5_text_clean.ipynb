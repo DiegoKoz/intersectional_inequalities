{
 "cells": [
  {
   "cell_type": "code",
   "execution_count": 1,
   "metadata": {},
   "outputs": [],
   "source": [
    "from nltk.corpus import stopwords\n",
    "from nltk.stem import SnowballStemmer\n",
    "import string\n",
    "import pandas as pd\n",
    "import re\n",
    "import pickle\n",
    "from tqdm.notebook import tqdm\n",
    "import unicodedata2\n",
    "import numpy as np\n",
    "\n",
    "from libs.Cleaner import Cleaner\n"
   ]
  },
  {
   "cell_type": "code",
   "execution_count": 2,
   "metadata": {},
   "outputs": [],
   "source": [
    "# import nltk\n",
    "# nltk.download('stopwords')"
   ]
  },
  {
   "cell_type": "code",
   "execution_count": 3,
   "metadata": {},
   "outputs": [],
   "source": [
    "abstracts = pd.read_csv('/data/WOS/US/abstracts.txt', delimiter='\\t')"
   ]
  },
  {
   "cell_type": "code",
   "execution_count": 4,
   "metadata": {},
   "outputs": [],
   "source": [
    "titles = pd.read_csv('/data/WOS/US/titles.txt', delimiter='\\t')"
   ]
  },
  {
   "cell_type": "code",
   "execution_count": 5,
   "metadata": {},
   "outputs": [],
   "source": [
    "keywords = pd.read_csv('/data/WOS/US/keywords.txt', delimiter='\\t')"
   ]
  },
  {
   "cell_type": "code",
   "execution_count": 6,
   "metadata": {},
   "outputs": [],
   "source": [
    "#normalize names of columns\n",
    "abstracts.columns = ['id_art', 'Ordre', 'abstract']\n",
    "\n",
    "titles.columns = ['id_art', 'ITEMID', 'title']\n",
    "\n",
    "keywords.columns = ['Ident', 'id_art', 'Ordre', 'ItemID', 'keywords']"
   ]
  },
  {
   "cell_type": "code",
   "execution_count": 7,
   "metadata": {},
   "outputs": [],
   "source": [
    "metadata_df = pd.read_csv('/data/WOS/US/US_papers.txt')"
   ]
  },
  {
   "cell_type": "code",
   "execution_count": 8,
   "metadata": {},
   "outputs": [
    {
     "data": {
      "text/plain": [
       "Clinical Medicine             1601748\n",
       "Biomedical Research            547287\n",
       "Engineering and Technology     286905\n",
       "Chemistry                      275217\n",
       "Biology                        246690\n",
       "Physics                        189658\n",
       "Earth and Space                181621\n",
       "Health                         169017\n",
       "Social Sciences                161203\n",
       "Psychology                     142939\n",
       "Professional Fields            139847\n",
       "Humanities                     103132\n",
       "Mathematics                     71980\n",
       "Arts                            12447\n",
       "Name: EDiscipline, dtype: int64"
      ]
     },
     "execution_count": 8,
     "metadata": {},
     "output_type": "execute_result"
    }
   ],
   "source": [
    "metadata_df[metadata_df.ordre ==1].EDiscipline.value_counts()"
   ]
  },
  {
   "cell_type": "markdown",
   "metadata": {},
   "source": [
    "# Full DF"
   ]
  },
  {
   "cell_type": "code",
   "execution_count": 10,
   "metadata": {},
   "outputs": [],
   "source": [
    "# # should change stemming for lemmatizer\n",
    "# cleaner = Cleaner(abstracts, titles, keywords, stemming=True)\n",
    "\n",
    "# df_text = cleaner.data_clean()\n",
    "\n",
    "# df_text\n",
    "\n",
    "# df = df_text[['id_art','text_clean']]\n",
    "\n",
    "# df.to_csv('/data/WOS/US/text_clean.txt',index=False)\n",
    "# df.to_csv('../data/text_clean.txt',index=False)\n",
    "\n",
    "# df = pd.read_csv('/data/WOS/US/text_clean.txt')"
   ]
  },
  {
   "cell_type": "markdown",
   "metadata": {},
   "source": [
    "# Social Sciences Dataset"
   ]
  },
  {
   "cell_type": "code",
   "execution_count": 24,
   "metadata": {},
   "outputs": [],
   "source": [
    "socsci_id = metadata_df.loc[metadata_df.EDiscipline.isin(['Social Sciences','Humanities','Professional Fields']),'id_art']\n",
    "socsci_id = socsci_id.unique()"
   ]
  },
  {
   "cell_type": "code",
   "execution_count": 25,
   "metadata": {},
   "outputs": [],
   "source": [
    "abstracts_socsci = abstracts[abstracts.id_art.isin(socsci_id)]\n",
    "titles_socsci = titles[titles.id_art.isin(socsci_id)]\n",
    "keywords_socsci = keywords[keywords.id_art.isin(socsci_id)]"
   ]
  },
  {
   "cell_type": "code",
   "execution_count": 26,
   "metadata": {},
   "outputs": [
    {
     "name": "stderr",
     "output_type": "stream",
     "text": [
      "/opt/conda/lib/python3.8/site-packages/pandas/core/frame.py:3065: SettingWithCopyWarning: \n",
      "A value is trying to be set on a copy of a slice from a DataFrame.\n",
      "Try using .loc[row_indexer,col_indexer] = value instead\n",
      "\n",
      "See the caveats in the documentation: https://pandas.pydata.org/pandas-docs/stable/user_guide/indexing.html#returning-a-view-versus-a-copy\n",
      "  self[k1] = value[k2]\n",
      "/opt/conda/lib/python3.8/site-packages/tqdm/std.py:668: FutureWarning: The Panel class is removed from pandas. Accessing it from the top-level namespace will also be removed in the next version\n",
      "  from pandas import Panel\n"
     ]
    },
    {
     "data": {
      "application/vnd.jupyter.widget-view+json": {
       "model_id": "2b8041a92204494ca21f584237c28fe4",
       "version_major": 2,
       "version_minor": 0
      },
      "text/plain": [
       "HBox(children=(FloatProgress(value=0.0, max=283589.0), HTML(value='')))"
      ]
     },
     "metadata": {},
     "output_type": "display_data"
    },
    {
     "name": "stdout",
     "output_type": "stream",
     "text": [
      "\n"
     ]
    },
    {
     "data": {
      "application/vnd.jupyter.widget-view+json": {
       "model_id": "72c4b63e3d9b4893ad544992d368c834",
       "version_major": 2,
       "version_minor": 0
      },
      "text/plain": [
       "HBox(children=(FloatProgress(value=0.0, max=450659.0), HTML(value='')))"
      ]
     },
     "metadata": {},
     "output_type": "display_data"
    },
    {
     "name": "stdout",
     "output_type": "stream",
     "text": [
      "\n"
     ]
    },
    {
     "data": {
      "application/vnd.jupyter.widget-view+json": {
       "model_id": "621ac14d009a4f13ae8d6a2c89cbc956",
       "version_major": 2,
       "version_minor": 0
      },
      "text/plain": [
       "HBox(children=(FloatProgress(value=0.0, max=250580.0), HTML(value='')))"
      ]
     },
     "metadata": {},
     "output_type": "display_data"
    },
    {
     "name": "stdout",
     "output_type": "stream",
     "text": [
      "\n",
      "we have 283589 abstracts-articles, 450659 titles-articles and 250580 keywords-articles\n"
     ]
    }
   ],
   "source": [
    "cleaner_socsci = Cleaner(abstracts_socsci, titles_socsci, keywords_socsci, stemming=True)"
   ]
  },
  {
   "cell_type": "code",
   "execution_count": 27,
   "metadata": {},
   "outputs": [],
   "source": [
    "# import nltk\n",
    "# nltk.download('stopwords')"
   ]
  },
  {
   "cell_type": "code",
   "execution_count": 28,
   "metadata": {},
   "outputs": [
    {
     "data": {
      "application/vnd.jupyter.widget-view+json": {
       "model_id": "15e3d7eb990e45bd96d39a1e5c7f3f03",
       "version_major": 2,
       "version_minor": 0
      },
      "text/plain": [
       "HBox(children=(FloatProgress(value=0.0, description='processing', max=283589.0, style=ProgressStyle(descriptio…"
      ]
     },
     "metadata": {},
     "output_type": "display_data"
    },
    {
     "name": "stdout",
     "output_type": "stream",
     "text": [
      "\n"
     ]
    },
    {
     "data": {
      "application/vnd.jupyter.widget-view+json": {
       "model_id": "5fb7a3b6650348d4941314ca06018b63",
       "version_major": 2,
       "version_minor": 0
      },
      "text/plain": [
       "HBox(children=(FloatProgress(value=0.0, description='select most representative word of stem', max=196046.0, s…"
      ]
     },
     "metadata": {},
     "output_type": "display_data"
    },
    {
     "name": "stdout",
     "output_type": "stream",
     "text": [
      "\n"
     ]
    },
    {
     "data": {
      "application/vnd.jupyter.widget-view+json": {
       "model_id": "1b770fd1d1fb422caffdd024a5dcefd2",
       "version_major": 2,
       "version_minor": 0
      },
      "text/plain": [
       "HBox(children=(FloatProgress(value=0.0, description='de-stemming', max=283589.0, style=ProgressStyle(descripti…"
      ]
     },
     "metadata": {},
     "output_type": "display_data"
    },
    {
     "name": "stdout",
     "output_type": "stream",
     "text": [
      "\n"
     ]
    }
   ],
   "source": [
    "df_text_socsci = cleaner_socsci.data_clean()"
   ]
  },
  {
   "cell_type": "code",
   "execution_count": 29,
   "metadata": {},
   "outputs": [],
   "source": [
    "df_socsci = df_text_socsci[['id_art','text_clean']]"
   ]
  },
  {
   "cell_type": "code",
   "execution_count": 30,
   "metadata": {},
   "outputs": [],
   "source": [
    "df_socsci.to_csv('/data/WOS/US/text_clean_socsci.txt',index=False)\n",
    "df_socsci.to_csv('../data/text_clean_socsci.txt',index=False)"
   ]
  },
  {
   "cell_type": "markdown",
   "metadata": {},
   "source": [
    "## Health"
   ]
  },
  {
   "cell_type": "code",
   "execution_count": 9,
   "metadata": {},
   "outputs": [],
   "source": [
    "health_id = metadata_df.loc[metadata_df.EDiscipline.isin(['Health']),'id_art']\n",
    "health_id = health_id.unique()"
   ]
  },
  {
   "cell_type": "code",
   "execution_count": 10,
   "metadata": {},
   "outputs": [],
   "source": [
    "abstracts_health = abstracts[abstracts.id_art.isin(health_id)]\n",
    "titles_health = titles[titles.id_art.isin(health_id)]\n",
    "keywords_health = keywords[keywords.id_art.isin(health_id)]"
   ]
  },
  {
   "cell_type": "code",
   "execution_count": 12,
   "metadata": {},
   "outputs": [
    {
     "data": {
      "application/vnd.jupyter.widget-view+json": {
       "model_id": "e650782bf8d445e5bd31f1376d31e0ca",
       "version_major": 2,
       "version_minor": 0
      },
      "text/plain": [
       "HBox(children=(FloatProgress(value=0.0, description='processing', max=142032.0, style=ProgressStyle(descriptio…"
      ]
     },
     "metadata": {},
     "output_type": "display_data"
    },
    {
     "name": "stdout",
     "output_type": "stream",
     "text": [
      "\n"
     ]
    },
    {
     "data": {
      "application/vnd.jupyter.widget-view+json": {
       "model_id": "7ee7b9729e814e37bb30bd39e4c68908",
       "version_major": 2,
       "version_minor": 0
      },
      "text/plain": [
       "HBox(children=(FloatProgress(value=0.0, description='select most representative word of stem', max=113381.0, s…"
      ]
     },
     "metadata": {},
     "output_type": "display_data"
    },
    {
     "name": "stdout",
     "output_type": "stream",
     "text": [
      "\n"
     ]
    },
    {
     "data": {
      "application/vnd.jupyter.widget-view+json": {
       "model_id": "6431ea5576e84f32b97f6b6cb82a102d",
       "version_major": 2,
       "version_minor": 0
      },
      "text/plain": [
       "HBox(children=(FloatProgress(value=0.0, description='de-stemming', max=142032.0, style=ProgressStyle(descripti…"
      ]
     },
     "metadata": {},
     "output_type": "display_data"
    },
    {
     "name": "stdout",
     "output_type": "stream",
     "text": [
      "\n"
     ]
    }
   ],
   "source": [
    "df_text_health = cleaner_health.data_clean()"
   ]
  },
  {
   "cell_type": "code",
   "execution_count": 19,
   "metadata": {},
   "outputs": [],
   "source": [
    "df_health = df_text_health[['id_art','text_clean']]"
   ]
  },
  {
   "cell_type": "code",
   "execution_count": 20,
   "metadata": {},
   "outputs": [
    {
     "data": {
      "text/html": [
       "<div>\n",
       "<style scoped>\n",
       "    .dataframe tbody tr th:only-of-type {\n",
       "        vertical-align: middle;\n",
       "    }\n",
       "\n",
       "    .dataframe tbody tr th {\n",
       "        vertical-align: top;\n",
       "    }\n",
       "\n",
       "    .dataframe thead th {\n",
       "        text-align: right;\n",
       "    }\n",
       "</style>\n",
       "<table border=\"1\" class=\"dataframe\">\n",
       "  <thead>\n",
       "    <tr style=\"text-align: right;\">\n",
       "      <th></th>\n",
       "      <th>id_art</th>\n",
       "      <th>text_clean</th>\n",
       "    </tr>\n",
       "  </thead>\n",
       "  <tbody>\n",
       "    <tr>\n",
       "      <th>0</th>\n",
       "      <td>29500226</td>\n",
       "      <td>objective assessing vaccination coverage part ...</td>\n",
       "    </tr>\n",
       "    <tr>\n",
       "      <th>1</th>\n",
       "      <td>29500227</td>\n",
       "      <td>objective purpose study compared burden diseas...</td>\n",
       "    </tr>\n",
       "    <tr>\n",
       "      <th>2</th>\n",
       "      <td>29500228</td>\n",
       "      <td>objective evaluate safety room occupants tuber...</td>\n",
       "    </tr>\n",
       "    <tr>\n",
       "      <th>3</th>\n",
       "      <td>29500230</td>\n",
       "      <td>objective aim study provide states level surve...</td>\n",
       "    </tr>\n",
       "    <tr>\n",
       "      <th>4</th>\n",
       "      <td>29504850</td>\n",
       "      <td>purpose study aims determine time frame postop...</td>\n",
       "    </tr>\n",
       "    <tr>\n",
       "      <th>...</th>\n",
       "      <td>...</td>\n",
       "      <td>...</td>\n",
       "    </tr>\n",
       "    <tr>\n",
       "      <th>142027</th>\n",
       "      <td>65202635</td>\n",
       "      <td>conclusions ability health centers implemented...</td>\n",
       "    </tr>\n",
       "    <tr>\n",
       "      <th>142028</th>\n",
       "      <td>65207241</td>\n",
       "      <td>background wrist worn smart watch fitness moni...</td>\n",
       "    </tr>\n",
       "    <tr>\n",
       "      <th>142029</th>\n",
       "      <td>65213663</td>\n",
       "      <td>backgroundalignment across levels leadership w...</td>\n",
       "    </tr>\n",
       "    <tr>\n",
       "      <th>142030</th>\n",
       "      <td>65213664</td>\n",
       "      <td>backgroundchildren autism received interventio...</td>\n",
       "    </tr>\n",
       "    <tr>\n",
       "      <th>142031</th>\n",
       "      <td>65219111</td>\n",
       "      <td>parametric assumptions equated hidden observat...</td>\n",
       "    </tr>\n",
       "  </tbody>\n",
       "</table>\n",
       "<p>142032 rows × 2 columns</p>\n",
       "</div>"
      ],
      "text/plain": [
       "          id_art                                         text_clean\n",
       "0       29500226  objective assessing vaccination coverage part ...\n",
       "1       29500227  objective purpose study compared burden diseas...\n",
       "2       29500228  objective evaluate safety room occupants tuber...\n",
       "3       29500230  objective aim study provide states level surve...\n",
       "4       29504850  purpose study aims determine time frame postop...\n",
       "...          ...                                                ...\n",
       "142027  65202635  conclusions ability health centers implemented...\n",
       "142028  65207241  background wrist worn smart watch fitness moni...\n",
       "142029  65213663  backgroundalignment across levels leadership w...\n",
       "142030  65213664  backgroundchildren autism received interventio...\n",
       "142031  65219111  parametric assumptions equated hidden observat...\n",
       "\n",
       "[142032 rows x 2 columns]"
      ]
     },
     "execution_count": 20,
     "metadata": {},
     "output_type": "execute_result"
    }
   ],
   "source": [
    "df_health"
   ]
  },
  {
   "cell_type": "code",
   "execution_count": 21,
   "metadata": {},
   "outputs": [],
   "source": [
    "df_health.to_csv('/data/WOS/US/text_clean_health.txt',index=False)\n",
    "df_health.to_csv('../data/text_clean_health.txt',index=False)"
   ]
  }
 ],
 "metadata": {
  "kernelspec": {
   "display_name": "Python 3",
   "language": "python",
   "name": "python3"
  },
  "language_info": {
   "codemirror_mode": {
    "name": "ipython",
    "version": 3
   },
   "file_extension": ".py",
   "mimetype": "text/x-python",
   "name": "python",
   "nbconvert_exporter": "python",
   "pygments_lexer": "ipython3",
   "version": "3.8.3"
  }
 },
 "nbformat": 4,
 "nbformat_minor": 4
}
